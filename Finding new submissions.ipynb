{
 "cells": [
  {
   "cell_type": "code",
   "execution_count": 1,
   "metadata": {
    "collapsed": true
   },
   "outputs": [],
   "source": [
    "import pandas as pd"
   ]
  },
  {
   "cell_type": "code",
   "execution_count": 2,
   "metadata": {
    "collapsed": true
   },
   "outputs": [],
   "source": [
    "full_export='full_export.csv'\n",
    "working_data='workingfile.csv'"
   ]
  },
  {
   "cell_type": "code",
   "execution_count": 31,
   "metadata": {
    "collapsed": true
   },
   "outputs": [],
   "source": []
  },
  {
   "cell_type": "code",
   "execution_count": 32,
   "metadata": {
    "collapsed": true
   },
   "outputs": [],
   "source": [
    "paid_and_approved='yes'\n",
    "\n",
    "def find_new_entries(x,y):\n",
    "    df_full=pd.read_csv(full_export)\n",
    "    df_working=pd.read_csv(working_data)\n",
    "    if paid_and_approved=='yes':\n",
    "        df_i=df_full[df_full.status.isin(['paid', 'approved'])]\n",
    "        df_i=df_i[~df_i.id.isin(df_working.id)]\n",
    "        df_i.to_csv('final_data.csv')\n",
    "    else:\n",
    "        df_i=df_i[~df_i.id.isin(df_working.id)]\n",
    "        df_i.to_csv('final_data.csv')"
   ]
  },
  {
   "cell_type": "code",
   "execution_count": null,
   "metadata": {
    "collapsed": true
   },
   "outputs": [],
   "source": []
  }
 ],
 "metadata": {
  "kernelspec": {
   "display_name": "Python 3",
   "language": "python",
   "name": "python3"
  },
  "language_info": {
   "codemirror_mode": {
    "name": "ipython",
    "version": 3
   },
   "file_extension": ".py",
   "mimetype": "text/x-python",
   "name": "python",
   "nbconvert_exporter": "python",
   "pygments_lexer": "ipython3",
   "version": "3.6.1"
  }
 },
 "nbformat": 4,
 "nbformat_minor": 2
}
