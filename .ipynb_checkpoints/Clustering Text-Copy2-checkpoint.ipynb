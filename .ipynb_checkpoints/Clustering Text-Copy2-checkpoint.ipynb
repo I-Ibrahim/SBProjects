{
 "cells": [
  {
   "cell_type": "markdown",
   "metadata": {},
   "source": [
    "1. Caps words apart from stop words\n",
    "2. Find unique instances\n",
    "3. Reduce unique instances by finding those that are very similar, group them together"
   ]
  },
  {
   "cell_type": "code",
   "execution_count": 3,
   "metadata": {
    "collapsed": true
   },
   "outputs": [],
   "source": [
    "import pandas as pd\n",
    "import nltk\n",
    "import string\n",
    "import jellyfish\n",
    "import numpy as np\n",
    "\n",
    "\n",
    "\n",
    "from  more_itertools import unique_everseen\n"
   ]
  },
  {
   "cell_type": "code",
   "execution_count": null,
   "metadata": {
    "collapsed": true
   },
   "outputs": [],
   "source": []
  },
  {
   "cell_type": "code",
   "execution_count": 5,
   "metadata": {
    "collapsed": true
   },
   "outputs": [],
   "source": [
    "df=pd.read_csv('../../Documents/Projects/PythonPractice/Screener.csv', encoding='ISO-8859-1')\n",
    "df_c=df[df.status=='completed']"
   ]
  },
  {
   "cell_type": "code",
   "execution_count": 6,
   "metadata": {
    "collapsed": false
   },
   "outputs": [
    {
     "name": "stderr",
     "output_type": "stream",
     "text": [
      "/Users/islamibrahim/anaconda/lib/python3.6/site-packages/ipykernel_launcher.py:1: SettingWithCopyWarning: \n",
      "A value is trying to be set on a copy of a slice from a DataFrame.\n",
      "Try using .loc[row_indexer,col_indexer] = value instead\n",
      "\n",
      "See the caveats in the documentation: http://pandas.pydata.org/pandas-docs/stable/indexing.html#indexing-view-versus-copy\n",
      "  \"\"\"Entry point for launching an IPython kernel.\n"
     ]
    }
   ],
   "source": [
    "df_c['questions_51686_what_is_your_favourite_mobile_game_right_now']=df_c['questions_51686_what_is_your_favourite_mobile_game_right_now'].apply(lambda x: string.capwords(x))"
   ]
  },
  {
   "cell_type": "code",
   "execution_count": 7,
   "metadata": {
    "collapsed": true
   },
   "outputs": [],
   "source": [
    "games=df_c['questions_51686_what_is_your_favourite_mobile_game_right_now'].unique()"
   ]
  },
  {
   "cell_type": "code",
   "execution_count": 8,
   "metadata": {
    "collapsed": true
   },
   "outputs": [],
   "source": [
    "games.sort()\n",
    "#print(games)"
   ]
  },
  {
   "cell_type": "code",
   "execution_count": null,
   "metadata": {
    "collapsed": true
   },
   "outputs": [],
   "source": [
    "from scipy.spatial.distance import pdist"
   ]
  },
  {
   "cell_type": "code",
   "execution_count": null,
   "metadata": {
    "collapsed": true
   },
   "outputs": [],
   "source": []
  },
  {
   "cell_type": "code",
   "execution_count": 11,
   "metadata": {
    "collapsed": false
   },
   "outputs": [
    {
     "data": {
      "text/plain": [
       "1"
      ]
     },
     "execution_count": 11,
     "metadata": {},
     "output_type": "execute_result"
    }
   ],
   "source": [
    "jellyfish.levenshtein_distance('8 ball Pool', '8ball Pool')"
   ]
  },
  {
   "cell_type": "code",
   "execution_count": 12,
   "metadata": {
    "collapsed": false
   },
   "outputs": [
    {
     "data": {
      "text/plain": [
       "array(['8 Ball Pool', '8ball Pool', 'Age Of 2408', \"Alto's Adventure\",\n",
       "       'Angry Bird', 'Angry Birda', 'Angry Birds', 'Angry Birds 2',\n",
       "       'Angry Birds Evolution', 'Angry Birds Evolutions',\n",
       "       'Angry Birds Pop', 'Animation Domination', 'Army Man Strike',\n",
       "       'Art Of Conquest', 'Ballz', 'Bidwars', 'Bingo Blitz',\n",
       "       'Brightwood Adventures', 'Bubble Mania', 'C.a.t.s.', 'Candy Crush',\n",
       "       'Candy Crush Soda Saga', 'Candy Crush, Angry Birds', 'Candy Soda',\n",
       "       'Castle Clash', 'Chichens', 'Clan Crash', 'Clash Of Clan',\n",
       "       'Clash Of Clans', 'Clash Of Kings', 'Clash Royal', 'Clash Royale',\n",
       "       'Coin Master', 'Cookie Run', 'Cooking Fever', 'Crash Fever',\n",
       "       'Criminal Case', 'Crusaders', 'Csr 2 Racing', 'Dancing Line',\n",
       "       'Dc Legends', 'Dead Trigger 2', 'Dhdhd', 'Dice Master',\n",
       "       'Dice With Buddies', 'Diggy', 'Disney Magic Dice', \"Don't Got One\",\n",
       "       'Double Down Casino', 'Dragon Soul', 'Dragon Vale', 'Dragonvale',\n",
       "       'Dress Up Nikki', 'Episode', 'Everwing', 'Evony', 'Fairway Golf',\n",
       "       'Fallout Shelter', 'Family Fued', 'Family Fuid', 'Fashion City 2',\n",
       "       'Fight List', 'Fightlist', 'Final Fantasy', 'Final Fantasy Tactics',\n",
       "       'Final Fantasy Xv', 'Fire Emblem', 'Fire Emblem Heroes', 'Fishdom',\n",
       "       'Flappy Bird', 'Flappy Birds', 'Game Of Dice', 'Game Of War',\n",
       "       'Giant Boulder Of Death And Not Not', 'Glory Contest And Sao',\n",
       "       'Goddess: Primal Chaos', 'Grand Theft Auto', 'Hawk Squadron',\n",
       "       'Hearthstone', 'Hempire', 'Hero Wars', 'Heroes Charge',\n",
       "       'Hill Climb Racing', 'Hoplite', 'Hungry Shark', 'Idle Heroes',\n",
       "       'Idle Poring', 'Immortal Conquest', 'King Of Avalon',\n",
       "       'Last Day On Earth: Survival', 'Legacy', 'Legendary', 'Legends',\n",
       "       'Love Nikki', 'Lucktastic', 'Mario Run', 'Marked By King Bs',\n",
       "       'Marvel Contests Of Champions', 'Marvel Heros',\n",
       "       \"Marvel's Avengers Academy\", 'Merge Town!', 'Minecraft',\n",
       "       'Minion Rush', 'Mobile Strike', 'Nba 2k', 'Nba2k17', 'Neko Atsume',\n",
       "       'None', 'Oz', 'Panda Pop', 'Paradise Bay', 'Peach Blood',\n",
       "       'Piano Tiles', 'Piano Tiles 2', 'Pixel Dungeon',\n",
       "       'Plants Vs Zombies', 'Pocket God', 'Pocket Mortys',\n",
       "       'Pokeland Legends', 'Pokemon Shuffle', 'Pokemongo', 'Quiz Up',\n",
       "       'Race Kings', 'Rage Of The Righteous', 'Risk', 'Samorost 3',\n",
       "       'Seekers Notes', 'Sims', 'Slither.io', 'Smash Hit', 'Soduko',\n",
       "       'Star Trek Timeline', 'Star Wars', 'Star Wars Commander',\n",
       "       'Star Wars Galaxy Of Heroes', 'Star Wars Galaxy Of Heros',\n",
       "       'Star Wars: Galaxy Of Heroes', 'Still Candy Crush', 'Summoners War',\n",
       "       'Super Mario Run', 'Super Mario, Badland.', 'Survival Arena',\n",
       "       'Tap Tap Aquariums', 'Tap Tap Fish', 'Tap To Riches',\n",
       "       'Tap! Agar.orbit', 'Taps To Riches', 'Temple Run', 'Tetris',\n",
       "       'The Archers 2', 'The Sims', 'The Walking Dead', 'Toca City',\n",
       "       'Toy Blast, Pot Farm', 'Trailer Park. Oys', 'Two Dots', 'Vainglory',\n",
       "       'Values Gate', 'Verydice', 'Vikings', 'Vikings:war Of Clans',\n",
       "       'Walking Dead', 'War Dragons', 'War Robots', 'Words With Friends',\n",
       "       'Yummy Gummy', 'Zombie Island', 'Zombies Ate My Friends'], dtype=object)"
      ]
     },
     "execution_count": 12,
     "metadata": {},
     "output_type": "execute_result"
    }
   ],
   "source": [
    "games"
   ]
  },
  {
   "cell_type": "markdown",
   "metadata": {},
   "source": [
    "# Levenshtein distance"
   ]
  },
  {
   "cell_type": "code",
   "execution_count": 13,
   "metadata": {
    "collapsed": true
   },
   "outputs": [],
   "source": [
    "x=list(games)\n",
    "y=list(games)"
   ]
  },
  {
   "cell_type": "code",
   "execution_count": 14,
   "metadata": {
    "collapsed": true
   },
   "outputs": [],
   "source": [
    "m=np.zeros([len(x), len(y)])\n",
    "i_index=0\n",
    "for i in x:\n",
    "    j_index=0\n",
    "    for j in y:\n",
    "        dist=jellyfish.levenshtein_distance(i,j)\n",
    "        m[i_index,j_index]=dist\n",
    "        j_index+=1\n",
    "    i_index+=1\n",
    "        "
   ]
  },
  {
   "cell_type": "code",
   "execution_count": 15,
   "metadata": {
    "collapsed": true
   },
   "outputs": [],
   "source": [
    "indexes_0=np.where(m<2)"
   ]
  },
  {
   "cell_type": "code",
   "execution_count": 16,
   "metadata": {
    "collapsed": true
   },
   "outputs": [],
   "source": [
    "indexes=[]\n",
    "for i in range(0,len(indexes_0[0])):\n",
    "    if indexes_0[0][i]!=indexes_0[1][i]:\n",
    "        indexes.append([indexes_0[0][i], indexes_0[1][i]])\n",
    "               "
   ]
  },
  {
   "cell_type": "code",
   "execution_count": 17,
   "metadata": {
    "collapsed": true
   },
   "outputs": [],
   "source": [
    "grouped=[]\n",
    "for m in indexes:\n",
    "    j=x[m[0]],x[m[1]]\n",
    "    grouped.append(j)"
   ]
  },
  {
   "cell_type": "code",
   "execution_count": 18,
   "metadata": {
    "collapsed": false
   },
   "outputs": [
    {
     "data": {
      "text/plain": [
       "[('Angry Bird', 'Angry Birda'),\n",
       " ('Angry Bird', 'Angry Birds'),\n",
       " ('Angry Birda', 'Angry Bird'),\n",
       " ('Angry Birda', 'Angry Birds'),\n",
       " ('Angry Birds', 'Angry Bird'),\n",
       " ('Angry Birds', 'Angry Birda'),\n",
       " ('Angry Birds Evolution', 'Angry Birds Evolutions'),\n",
       " ('Angry Birds Evolutions', 'Angry Birds Evolution'),\n",
       " ('Clash Of Clan', 'Clash Of Clans'),\n",
       " ('Clash Of Clans', 'Clash Of Clan'),\n",
       " ('Clash Royal', 'Clash Royale'),\n",
       " ('Clash Royale', 'Clash Royal'),\n",
       " ('Family Fued', 'Family Fuid'),\n",
       " ('Family Fuid', 'Family Fued'),\n",
       " ('Flappy Bird', 'Flappy Birds'),\n",
       " ('Flappy Birds', 'Flappy Bird'),\n",
       " ('Star Wars Galaxy Of Heroes', 'Star Wars Galaxy Of Heros'),\n",
       " ('Star Wars Galaxy Of Heroes', 'Star Wars: Galaxy Of Heroes'),\n",
       " ('Star Wars Galaxy Of Heros', 'Star Wars Galaxy Of Heroes'),\n",
       " ('Star Wars: Galaxy Of Heroes', 'Star Wars Galaxy Of Heroes'),\n",
       " ('Tap To Riches', 'Taps To Riches'),\n",
       " ('Taps To Riches', 'Tap To Riches')]"
      ]
     },
     "execution_count": 18,
     "metadata": {},
     "output_type": "execute_result"
    }
   ],
   "source": [
    "grouped"
   ]
  },
  {
   "cell_type": "markdown",
   "metadata": {},
   "source": [
    "http://chairnerd.seatgeek.com/fuzzywuzzy-fuzzy-string-matching-in-python/\n",
    "\n",
    "\n",
    "fuzzy partial string"
   ]
  },
  {
   "cell_type": "markdown",
   "metadata": {
    "collapsed": true
   },
   "source": [
    "# fuzzy partial matcher\n",
    "\n"
   ]
  },
  {
   "cell_type": "code",
   "execution_count": 144,
   "metadata": {
    "collapsed": false
   },
   "outputs": [
    {
     "name": "stderr",
     "output_type": "stream",
     "text": [
      "/Users/islamibrahim/anaconda/lib/python3.6/site-packages/fuzzywuzzy/fuzz.py:35: UserWarning: Using slow pure-python SequenceMatcher. Install python-Levenshtein to remove this warning\n",
      "  warnings.warn('Using slow pure-python SequenceMatcher. Install python-Levenshtein to remove this warning')\n"
     ]
    }
   ],
   "source": [
    "from fuzzywuzzy import fuzz"
   ]
  },
  {
   "cell_type": "code",
   "execution_count": null,
   "metadata": {
    "collapsed": true
   },
   "outputs": [],
   "source": []
  },
  {
   "cell_type": "code",
   "execution_count": 149,
   "metadata": {
    "collapsed": true
   },
   "outputs": [],
   "source": [
    "m=np.zeros([len(x), len(y)])\n",
    "i_index=0\n",
    "for i in x:\n",
    "    j_index=0\n",
    "    for j in y:\n",
    "        dist=fuzz.partial_ratio(i,j)\n",
    "        m[i_index,j_index]=dist\n",
    "        j_index+=1\n",
    "    i_index+=1\n",
    "        "
   ]
  },
  {
   "cell_type": "code",
   "execution_count": 150,
   "metadata": {
    "collapsed": true
   },
   "outputs": [],
   "source": [
    "indexes_0=np.where(m>80)"
   ]
  },
  {
   "cell_type": "code",
   "execution_count": 151,
   "metadata": {
    "collapsed": true
   },
   "outputs": [],
   "source": [
    "indexes=[]\n",
    "for i in range(0,len(indexes_0[0])):\n",
    "    if indexes_0[0][i]!=indexes_0[1][i]:\n",
    "        indexes.append([indexes_0[0][i], indexes_0[1][i]])\n",
    "               "
   ]
  },
  {
   "cell_type": "code",
   "execution_count": 152,
   "metadata": {
    "collapsed": true
   },
   "outputs": [],
   "source": [
    "grouped=[]\n",
    "for m in indexes:\n",
    "    j=x[m[0]],x[m[1]]\n",
    "    grouped.append(j)"
   ]
  },
  {
   "cell_type": "code",
   "execution_count": 154,
   "metadata": {
    "collapsed": false
   },
   "outputs": [
    {
     "data": {
      "text/plain": [
       "[('Angry Bird', 'Angry Birda'),\n",
       " ('Angry Bird', 'Angry Birds'),\n",
       " ('Angry Bird', 'Angry Birds 2'),\n",
       " ('Angry Bird', 'Angry Birds Evolution'),\n",
       " ('Angry Bird', 'Angry Birds Evolutions'),\n",
       " ('Angry Bird', 'Angry Birds Pop'),\n",
       " ('Angry Bird', 'Candy Crush, Angry Birds'),\n",
       " ('Angry Birda', 'Angry Bird'),\n",
       " ('Angry Birda', 'Angry Birds'),\n",
       " ('Angry Birda', 'Angry Birds 2'),\n",
       " ('Angry Birda', 'Angry Birds Evolution'),\n",
       " ('Angry Birda', 'Angry Birds Evolutions'),\n",
       " ('Angry Birda', 'Angry Birds Pop'),\n",
       " ('Angry Birda', 'Candy Crush, Angry Birds'),\n",
       " ('Angry Birds', 'Angry Bird'),\n",
       " ('Angry Birds', 'Angry Birda'),\n",
       " ('Angry Birds', 'Angry Birds 2'),\n",
       " ('Angry Birds', 'Angry Birds Evolution'),\n",
       " ('Angry Birds', 'Angry Birds Evolutions'),\n",
       " ('Angry Birds', 'Angry Birds Pop'),\n",
       " ('Angry Birds', 'Candy Crush, Angry Birds'),\n",
       " ('Angry Birds 2', 'Angry Bird'),\n",
       " ('Angry Birds 2', 'Angry Birda'),\n",
       " ('Angry Birds 2', 'Angry Birds'),\n",
       " ('Angry Birds 2', 'Angry Birds Evolution'),\n",
       " ('Angry Birds 2', 'Angry Birds Evolutions'),\n",
       " ('Angry Birds 2', 'Angry Birds Pop'),\n",
       " ('Angry Birds 2', 'Candy Crush, Angry Birds'),\n",
       " ('Angry Birds Evolution', 'Angry Bird'),\n",
       " ('Angry Birds Evolution', 'Angry Birda'),\n",
       " ('Angry Birds Evolution', 'Angry Birds'),\n",
       " ('Angry Birds Evolution', 'Angry Birds 2'),\n",
       " ('Angry Birds Evolution', 'Angry Birds Evolutions'),\n",
       " ('Angry Birds Evolution', 'Angry Birds Pop'),\n",
       " ('Angry Birds Evolutions', 'Angry Bird'),\n",
       " ('Angry Birds Evolutions', 'Angry Birda'),\n",
       " ('Angry Birds Evolutions', 'Angry Birds'),\n",
       " ('Angry Birds Evolutions', 'Angry Birds 2'),\n",
       " ('Angry Birds Evolutions', 'Angry Birds Evolution'),\n",
       " ('Angry Birds Evolutions', 'Angry Birds Pop'),\n",
       " ('Angry Birds Pop', 'Angry Bird'),\n",
       " ('Angry Birds Pop', 'Angry Birda'),\n",
       " ('Angry Birds Pop', 'Angry Birds'),\n",
       " ('Angry Birds Pop', 'Angry Birds 2'),\n",
       " ('Angry Birds Pop', 'Angry Birds Evolution'),\n",
       " ('Angry Birds Pop', 'Angry Birds Evolutions'),\n",
       " ('Angry Birds Pop', 'Candy Crush, Angry Birds'),\n",
       " ('Candy Crush', 'Candy Crush Soda Saga'),\n",
       " ('Candy Crush', 'Candy Crush, Angry Birds'),\n",
       " ('Candy Crush', 'Still Candy Crush'),\n",
       " ('Candy Crush Soda Saga', 'Candy Crush'),\n",
       " ('Candy Crush, Angry Birds', 'Angry Bird'),\n",
       " ('Candy Crush, Angry Birds', 'Angry Birda'),\n",
       " ('Candy Crush, Angry Birds', 'Angry Birds'),\n",
       " ('Candy Crush, Angry Birds', 'Angry Birds 2'),\n",
       " ('Candy Crush, Angry Birds', 'Angry Birds Pop'),\n",
       " ('Candy Crush, Angry Birds', 'Candy Crush'),\n",
       " ('Clash Of Clan', 'Clash Of Clans'),\n",
       " ('Clash Of Clans', 'Clash Of Clan'),\n",
       " ('Clash Royal', 'Clash Royale'),\n",
       " ('Clash Royale', 'Clash Royal'),\n",
       " ('Dc Legends', 'Legends'),\n",
       " ('Family Fued', 'Family Fuid'),\n",
       " ('Family Fuid', 'Family Fued'),\n",
       " ('Final Fantasy', 'Final Fantasy Tactics'),\n",
       " ('Final Fantasy', 'Final Fantasy Xv'),\n",
       " ('Final Fantasy Tactics', 'Final Fantasy'),\n",
       " ('Final Fantasy Tactics', 'Final Fantasy Xv'),\n",
       " ('Final Fantasy Xv', 'Final Fantasy'),\n",
       " ('Final Fantasy Xv', 'Final Fantasy Tactics'),\n",
       " ('Fire Emblem', 'Fire Emblem Heroes'),\n",
       " ('Fire Emblem Heroes', 'Fire Emblem'),\n",
       " ('Fire Emblem Heroes', 'Idle Heroes'),\n",
       " ('Flappy Bird', 'Flappy Birds'),\n",
       " ('Flappy Birds', 'Flappy Bird'),\n",
       " ('Idle Heroes', 'Fire Emblem Heroes'),\n",
       " ('Legendary', 'Legends'),\n",
       " ('Legends', 'Dc Legends'),\n",
       " ('Legends', 'Legendary'),\n",
       " ('Legends', 'Pokeland Legends'),\n",
       " ('Mario Run', 'Super Mario Run'),\n",
       " ('Nba 2k', 'Nba2k17'),\n",
       " ('Nba2k17', 'Nba 2k'),\n",
       " ('Piano Tiles', 'Piano Tiles 2'),\n",
       " ('Piano Tiles 2', 'Piano Tiles'),\n",
       " ('Pokeland Legends', 'Legends'),\n",
       " ('Sims', 'The Sims'),\n",
       " ('Star Wars', 'Star Wars Commander'),\n",
       " ('Star Wars', 'Star Wars Galaxy Of Heroes'),\n",
       " ('Star Wars', 'Star Wars Galaxy Of Heros'),\n",
       " ('Star Wars', 'Star Wars: Galaxy Of Heroes'),\n",
       " ('Star Wars Commander', 'Star Wars'),\n",
       " ('Star Wars Galaxy Of Heroes', 'Star Wars'),\n",
       " ('Star Wars Galaxy Of Heroes', 'Star Wars Galaxy Of Heros'),\n",
       " ('Star Wars Galaxy Of Heroes', 'Star Wars: Galaxy Of Heroes'),\n",
       " ('Star Wars Galaxy Of Heros', 'Star Wars'),\n",
       " ('Star Wars Galaxy Of Heros', 'Star Wars Galaxy Of Heroes'),\n",
       " ('Star Wars Galaxy Of Heros', 'Star Wars: Galaxy Of Heroes'),\n",
       " ('Star Wars: Galaxy Of Heroes', 'Star Wars'),\n",
       " ('Star Wars: Galaxy Of Heroes', 'Star Wars Galaxy Of Heroes'),\n",
       " ('Star Wars: Galaxy Of Heroes', 'Star Wars Galaxy Of Heros'),\n",
       " ('Still Candy Crush', 'Candy Crush'),\n",
       " ('Super Mario Run', 'Mario Run'),\n",
       " ('Tap To Riches', 'Taps To Riches'),\n",
       " ('Taps To Riches', 'Tap To Riches'),\n",
       " ('The Sims', 'Sims'),\n",
       " ('The Walking Dead', 'Walking Dead'),\n",
       " ('Vikings', 'Vikings:war Of Clans'),\n",
       " ('Vikings:war Of Clans', 'Vikings'),\n",
       " ('Walking Dead', 'The Walking Dead')]"
      ]
     },
     "execution_count": 154,
     "metadata": {},
     "output_type": "execute_result"
    }
   ],
   "source": [
    "grouped"
   ]
  },
  {
   "cell_type": "code",
   "execution_count": 155,
   "metadata": {
    "collapsed": true
   },
   "outputs": [],
   "source": [
    "final_list=['Angry Birds', 'Angry Birds Evolution', 'Angry Birds Pop','Candy Crush',  'Clash Of Clan',\n",
    "           'Clash Royale', 'Star Wars']"
   ]
  },
  {
   "cell_type": "code",
   "execution_count": 156,
   "metadata": {
    "collapsed": false,
    "scrolled": true
   },
   "outputs": [
    {
     "data": {
      "text/plain": [
       "0                           Dhdhd\n",
       "2               Plants Vs Zombies\n",
       "11                     Angry Bird\n",
       "14                        Fishdom\n",
       "20                    Angry Birds\n",
       "21                     Angry Bird\n",
       "27                 Clash Of Clans\n",
       "34           Animation Domination\n",
       "45                 Dress Up Nikki\n",
       "48               Grand Theft Auto\n",
       "58                   Clash Royale\n",
       "62      Star Wars Galaxy Of Heros\n",
       "64                Tap! Agar.orbit\n",
       "73                        Hoplite\n",
       "80                        Quiz Up\n",
       "81         Angry Birds Evolutions\n",
       "85                        Vikings\n",
       "87                    Angry Birds\n",
       "93                    Age Of 2408\n",
       "98                  Hawk Squadron\n",
       "103                    Temple Run\n",
       "112                Clash Of Clans\n",
       "124            Star Trek Timeline\n",
       "140     Marvel's Avengers Academy\n",
       "142                      Verydice\n",
       "151                   Yummy Gummy\n",
       "156               Fallout Shelter\n",
       "159                   Angry Birds\n",
       "162                        Tetris\n",
       "164                 Seekers Notes\n",
       "                  ...            \n",
       "1280               Clash Of Clans\n",
       "1286                  Piano Tiles\n",
       "1290               Clash Of Kings\n",
       "1293                Zombie Island\n",
       "1298                    Fightlist\n",
       "1299                  Angry Birds\n",
       "1323            Hill Climb Racing\n",
       "1340                   Dc Legends\n",
       "1345        Rage Of The Righteous\n",
       "1346                     The Sims\n",
       "1351               Clash Of Clans\n",
       "1361             The Walking Dead\n",
       "1365                  Angry Birds\n",
       "1370                    Pokemongo\n",
       "1375               Dead Trigger 2\n",
       "1380                  Family Fued\n",
       "1384               Taps To Riches\n",
       "1392            Dice With Buddies\n",
       "1399                Pocket Mortys\n",
       "1407                 Csr 2 Racing\n",
       "1411                    Toca City\n",
       "1422                  Candy Crush\n",
       "1430                  Peach Blood\n",
       "1432                Clash Of Clan\n",
       "1437                  Family Fuid\n",
       "1440                    Panda Pop\n",
       "1445                         None\n",
       "1451              Pokemon Shuffle\n",
       "1452             Final Fantasy Xv\n",
       "1466                Cooking Fever\n",
       "Name: questions_51686_what_is_your_favourite_mobile_game_right_now, Length: 224, dtype: object"
      ]
     },
     "execution_count": 156,
     "metadata": {},
     "output_type": "execute_result"
    }
   ],
   "source": [
    "df_c['questions_51686_what_is_your_favourite_mobile_game_right_now']"
   ]
  },
  {
   "cell_type": "code",
   "execution_count": 159,
   "metadata": {
    "collapsed": false
   },
   "outputs": [
    {
     "data": {
      "text/plain": [
       "0                           Dhdhd\n",
       "2               Plants Vs Zombies\n",
       "11                    Angry Birds\n",
       "14                        Fishdom\n",
       "20                    Angry Birds\n",
       "21                    Angry Birds\n",
       "27                 Clash Of Clans\n",
       "34           Animation Domination\n",
       "45                 Dress Up Nikki\n",
       "48               Grand Theft Auto\n",
       "58                   Clash Royale\n",
       "62      Star Wars Galaxy Of Heros\n",
       "64                Tap! Agar.orbit\n",
       "73                        Hoplite\n",
       "80                        Quiz Up\n",
       "81                    Angry Birds\n",
       "85                        Vikings\n",
       "87                    Angry Birds\n",
       "93                    Age Of 2408\n",
       "98                  Hawk Squadron\n",
       "103                    Temple Run\n",
       "112                Clash Of Clans\n",
       "124            Star Trek Timeline\n",
       "140     Marvel's Avengers Academy\n",
       "142                      Verydice\n",
       "151                   Yummy Gummy\n",
       "156               Fallout Shelter\n",
       "159                   Angry Birds\n",
       "162                        Tetris\n",
       "164                 Seekers Notes\n",
       "                  ...            \n",
       "1280               Clash Of Clans\n",
       "1286                  Piano Tiles\n",
       "1290               Clash Of Kings\n",
       "1293                Zombie Island\n",
       "1298                    Fightlist\n",
       "1299                  Angry Birds\n",
       "1323            Hill Climb Racing\n",
       "1340                   Dc Legends\n",
       "1345        Rage Of The Righteous\n",
       "1346                     The Sims\n",
       "1351               Clash Of Clans\n",
       "1361             The Walking Dead\n",
       "1365                  Angry Birds\n",
       "1370                    Pokemongo\n",
       "1375               Dead Trigger 2\n",
       "1380                  Family Fued\n",
       "1384               Taps To Riches\n",
       "1392            Dice With Buddies\n",
       "1399                Pocket Mortys\n",
       "1407                 Csr 2 Racing\n",
       "1411                    Toca City\n",
       "1422                  Candy Crush\n",
       "1430                  Peach Blood\n",
       "1432                Clash Of Clan\n",
       "1437                  Family Fuid\n",
       "1440                    Panda Pop\n",
       "1445                         None\n",
       "1451              Pokemon Shuffle\n",
       "1452             Final Fantasy Xv\n",
       "1466                Cooking Fever\n",
       "Name: questions_51686_what_is_your_favourite_mobile_game_right_now, Length: 224, dtype: object"
      ]
     },
     "execution_count": 159,
     "metadata": {},
     "output_type": "execute_result"
    }
   ],
   "source": [
    "def replace(x):\n",
    "    for i in final_list:\n",
    "        dist=fuzz.partial_ratio(i, x)\n",
    "        if dist>80:\n",
    "            return i\n",
    "        else:\n",
    "            return x\n",
    "        \n",
    "df_c['questions_51686_what_is_your_favourite_mobile_game_right_now'].apply(lambda x: replace(x),1)"
   ]
  },
  {
   "cell_type": "code",
   "execution_count": null,
   "metadata": {
    "collapsed": true
   },
   "outputs": [],
   "source": []
  }
 ],
 "metadata": {
  "kernelspec": {
   "display_name": "Python 3",
   "language": "python",
   "name": "python3"
  },
  "language_info": {
   "codemirror_mode": {
    "name": "ipython",
    "version": 3
   },
   "file_extension": ".py",
   "mimetype": "text/x-python",
   "name": "python",
   "nbconvert_exporter": "python",
   "pygments_lexer": "ipython3",
   "version": "3.6.0"
  }
 },
 "nbformat": 4,
 "nbformat_minor": 2
}
