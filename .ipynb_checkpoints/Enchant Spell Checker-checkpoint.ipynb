{
 "cells": [
  {
   "cell_type": "code",
   "execution_count": 42,
   "metadata": {
    "collapsed": true
   },
   "outputs": [],
   "source": [
    "import enchant\n",
    "import pandas as pd\n",
    "import re"
   ]
  },
  {
   "cell_type": "code",
   "execution_count": 4,
   "metadata": {
    "collapsed": true
   },
   "outputs": [],
   "source": [
    "df=pd.read_csv('King Spec - Data.csv')"
   ]
  },
  {
   "cell_type": "code",
   "execution_count": 16,
   "metadata": {
    "collapsed": false
   },
   "outputs": [
    {
     "data": {
      "text/plain": [
       "'i find the game to be very fun. i like how there is a boss level too. its very easy to understand and there is just enough of a challenge there to make it fun and interesting.'"
      ]
     },
     "execution_count": 16,
     "metadata": {},
     "output_type": "execute_result"
    }
   ],
   "source": [
    "df['questions_51827_why_do_you_say_this_we_need_detailed_answers_to_approve_your_submission'][4]"
   ]
  },
  {
   "cell_type": "code",
   "execution_count": 7,
   "metadata": {
    "collapsed": true
   },
   "outputs": [],
   "source": [
    "d=enchant.Dict(\"en_UK\")"
   ]
  },
  {
   "cell_type": "code",
   "execution_count": 47,
   "metadata": {
    "collapsed": true
   },
   "outputs": [],
   "source": [
    "d.add('apr')"
   ]
  },
  {
   "cell_type": "code",
   "execution_count": 53,
   "metadata": {
    "collapsed": false
   },
   "outputs": [
    {
     "data": {
      "text/plain": [
       "'saggy'"
      ]
     },
     "execution_count": 53,
     "metadata": {},
     "output_type": "execute_result"
    }
   ],
   "source": [
    "d.check('zig')\n",
    "d.suggest('zaggy')[0]"
   ]
  },
  {
   "cell_type": "code",
   "execution_count": 38,
   "metadata": {
    "collapsed": true
   },
   "outputs": [],
   "source": [
    "def check_spelling(x):\n",
    "    x=x.split()\n",
    "    count=0\n",
    "    for i in x:\n",
    "        correct=d.check(i)\n",
    "        if correct==False:\n",
    "            count+=1\n",
    "    return count"
   ]
  },
  {
   "cell_type": "code",
   "execution_count": 40,
   "metadata": {
    "collapsed": true
   },
   "outputs": [],
   "source": [
    "def correct_spelling(x):\n",
    "    x=x.split()\n",
    "    corrected=[]\n",
    "    for i in x:\n",
    "        correct=d.check(i)\n",
    "        if correct==False:\n",
    "            i=d.suggest(i)[0]\n",
    "            corrected.append(i)\n",
    "        else:\n",
    "            corrected.append(i)\n",
    "    corrected=\" \".join(corrected)\n",
    "    return corrected\n",
    "\n",
    "def cap_sentences(x):\n",
    "    sentence = re.split('([.!?] *)', x)\n",
    "    final = ''.join([i.capitalize() for i in sentence])\n",
    "    return final"
   ]
  },
  {
   "cell_type": "code",
   "execution_count": 39,
   "metadata": {
    "collapsed": true
   },
   "outputs": [],
   "source": [
    "h=correct_spelling(df['questions_51827_why_do_you_say_this_we_need_detailed_answers_to_approve_your_submission'][3])"
   ]
  },
  {
   "cell_type": "code",
   "execution_count": 43,
   "metadata": {
    "collapsed": false
   },
   "outputs": [
    {
     "data": {
      "text/plain": [
       "'I like that it takes a classic game brick breaker and adds a more modern spin on it the saga type game that is popular today. The storyline is interesting and the graphics are appealing. It will definitely fit in with games such as bubble witch saga'"
      ]
     },
     "execution_count": 43,
     "metadata": {},
     "output_type": "execute_result"
    }
   ],
   "source": [
    "cap_sentences(h)"
   ]
  },
  {
   "cell_type": "code",
   "execution_count": null,
   "metadata": {
    "collapsed": true
   },
   "outputs": [],
   "source": []
  }
 ],
 "metadata": {
  "kernelspec": {
   "display_name": "Python 3",
   "language": "python",
   "name": "python3"
  },
  "language_info": {
   "codemirror_mode": {
    "name": "ipython",
    "version": 3
   },
   "file_extension": ".py",
   "mimetype": "text/x-python",
   "name": "python",
   "nbconvert_exporter": "python",
   "pygments_lexer": "ipython3",
   "version": "3.6.0"
  }
 },
 "nbformat": 4,
 "nbformat_minor": 2
}
